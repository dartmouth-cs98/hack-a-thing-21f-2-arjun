{
 "cells": [
  {
   "cell_type": "code",
   "execution_count": 5,
   "id": "bb2032ee",
   "metadata": {},
   "outputs": [],
   "source": [
    "import json\n",
    "from urllib.request import urlopen\n",
    "from requests.auth import HTTPBasicAuth\n",
    "import requests"
   ]
  },
  {
   "cell_type": "code",
   "execution_count": 9,
   "id": "b0285aa7",
   "metadata": {},
   "outputs": [],
   "source": [
    "key = 'FRn4seUQrB5NRzWvukXAFH3MW6WsEIjN'"
   ]
  },
  {
   "cell_type": "code",
   "execution_count": 10,
   "id": "ee737db2",
   "metadata": {},
   "outputs": [],
   "source": [
    "url = 'https://api.nytimes.com/svc/topstories/v2/us.json?api-key='\n",
    "furl = url+key\n",
    "req = requests.get(furl)"
   ]
  },
  {
   "cell_type": "code",
   "execution_count": 21,
   "id": "40cf3128",
   "metadata": {},
   "outputs": [],
   "source": [
    "resp_dict = json.loads(req.content)\n",
    "num_res = resp_dict['num_results']\n",
    "articles = resp_dict['results']\n",
    "an_article = articles[0]\n",
    "an_article_summary = an_article['abstract']"
   ]
  },
  {
   "cell_type": "code",
   "execution_count": null,
   "id": "60e94f28",
   "metadata": {},
   "outputs": [],
   "source": []
  }
 ],
 "metadata": {
  "kernelspec": {
   "display_name": "Python 3",
   "language": "python",
   "name": "python3"
  },
  "language_info": {
   "codemirror_mode": {
    "name": "ipython",
    "version": 3
   },
   "file_extension": ".py",
   "mimetype": "text/x-python",
   "name": "python",
   "nbconvert_exporter": "python",
   "pygments_lexer": "ipython3",
   "version": "3.8.8"
  }
 },
 "nbformat": 4,
 "nbformat_minor": 5
}
